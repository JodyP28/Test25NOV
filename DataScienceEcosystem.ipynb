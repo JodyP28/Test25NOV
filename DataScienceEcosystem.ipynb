{
 "cells": [
  {
   "cell_type": "markdown",
   "id": "3613284c-4b2a-4bbb-a840-a32690997063",
   "metadata": {},
   "source": [
    "# Data Science Tools and Ecosystem"
   ]
  },
  {
   "cell_type": "markdown",
   "id": "71605a6d-4feb-4e02-a870-0c427b72d2c4",
   "metadata": {},
   "source": [
    "## In this notebook, Data Science Tools and Ecosystem are summarized."
   ]
  },
  {
   "cell_type": "markdown",
   "id": "a8dfe90d-0ed0-469f-ab15-e67680811563",
   "metadata": {},
   "source": [
    "## **Objectives**"
   ]
  },
  {
   "cell_type": "markdown",
   "id": "e3c45171-1b7c-452b-ae49-4356d9f7fc65",
   "metadata": {},
   "source": [
    "* List some popular languages\n",
    "* List some commonly used libraries\n",
    "* List some development environments\n",
    "* Show some arithmetic examples"
   ]
  },
  {
   "cell_type": "markdown",
   "id": "077e5ce4-b591-4f71-9737-0b75265ffa07",
   "metadata": {},
   "source": [
    "### Some of the popular languages that Data Scientists use are:"
   ]
  },
  {
   "cell_type": "markdown",
   "id": "e345fc22-f31c-46be-9d8c-e22ba01d32bc",
   "metadata": {},
   "source": [
    "1. Python\n",
    "2. R\n",
    "3. SQL\n",
    "4. Julia"
   ]
  },
  {
   "cell_type": "markdown",
   "id": "2846bad1-ce0b-4470-ab29-5fc73d21e15a",
   "metadata": {},
   "source": [
    "### Some of the commonly used libraries used by Data Scientists include:"
   ]
  },
  {
   "cell_type": "markdown",
   "id": "0bdbd918-2172-4f2f-874c-492ad0a4ab13",
   "metadata": {},
   "source": [
    "1. NumPy (in Python)\n",
    "2. Pandas (in Python)\n",
    "3. Ggplot2 (in R)\n",
    "4. SciKit-Learn (in Python)"
   ]
  },
  {
   "cell_type": "markdown",
   "id": "58de2f0c-edc4-4ac5-8b40-c1bb69a0cd8e",
   "metadata": {},
   "source": [
    "### Here are three development environment open source tools used in data science."
   ]
  },
  {
   "cell_type": "markdown",
   "id": "36724e03-3a7c-46ff-a10c-a5f70b133705",
   "metadata": {},
   "source": [
    "| Data Science Tools |\n",
    "| -------- |\n",
    "| Jupyter Notebook |\n",
    "| Tensor Flow |\n",
    "| R Studio |"
   ]
  },
  {
   "cell_type": "markdown",
   "id": "2757d575-3c50-4555-ac4d-2f397fc1f8a5",
   "metadata": {},
   "source": [
    "### Below are a few examples of evaluating arithmetic expressions in Python"
   ]
  },
  {
   "cell_type": "markdown",
   "id": "f5a0d59f-066a-440f-8917-2d271a2866c1",
   "metadata": {},
   "source": [
    "#### This a simple arithmetic expression to mutiply then add integers"
   ]
  },
  {
   "cell_type": "code",
   "execution_count": 1,
   "id": "e3214402-d603-41c0-9bdd-bb63d4d954e2",
   "metadata": {},
   "outputs": [
    {
     "data": {
      "text/plain": [
       "17"
      ]
     },
     "execution_count": 1,
     "metadata": {},
     "output_type": "execute_result"
    }
   ],
   "source": [
    "(3*4)+5"
   ]
  },
  {
   "cell_type": "markdown",
   "id": "39326845-1f9a-4dc6-b212-edde08ad4587",
   "metadata": {},
   "source": [
    "### This will convert 200 minutes to hours by diving by 60"
   ]
  },
  {
   "cell_type": "code",
   "execution_count": 2,
   "id": "2988d390-077d-4915-9f4e-1f73333e6549",
   "metadata": {},
   "outputs": [
    {
     "data": {
      "text/plain": [
       "3.3333333333333335"
      ]
     },
     "execution_count": 2,
     "metadata": {},
     "output_type": "execute_result"
    }
   ],
   "source": [
    "200/60"
   ]
  },
  {
   "cell_type": "markdown",
   "id": "d3a19587-fd3b-4bdc-8554-dce18e54923d",
   "metadata": {},
   "source": [
    "## Author"
   ]
  },
  {
   "cell_type": "markdown",
   "id": "d4fe9635-b9ab-4376-bca7-5e879c5aab5a",
   "metadata": {},
   "source": [
    "Jody Peterson"
   ]
  },
  {
   "cell_type": "code",
   "execution_count": null,
   "id": "e2c8fa2b-4f1b-4301-8615-dea541190ea8",
   "metadata": {},
   "outputs": [],
   "source": []
  }
 ],
 "metadata": {
  "kernelspec": {
   "display_name": "Python 3 (ipykernel)",
   "language": "python",
   "name": "python3"
  },
  "language_info": {
   "codemirror_mode": {
    "name": "ipython",
    "version": 3
   },
   "file_extension": ".py",
   "mimetype": "text/x-python",
   "name": "python",
   "nbconvert_exporter": "python",
   "pygments_lexer": "ipython3",
   "version": "3.11.9"
  }
 },
 "nbformat": 4,
 "nbformat_minor": 5
}
